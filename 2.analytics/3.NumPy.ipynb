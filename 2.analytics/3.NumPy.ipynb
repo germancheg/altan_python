{
 "cells": [
  {
   "cell_type": "code",
   "execution_count": 1,
   "id": "133089aa",
   "metadata": {},
   "outputs": [],
   "source": [
    "import numpy as np"
   ]
  },
  {
   "cell_type": "markdown",
   "id": "255b16ac",
   "metadata": {},
   "source": [
    "- агрегирование\n",
    "\n",
    "Агрегирование - вычисление неких сводных показателей."
   ]
  },
  {
   "cell_type": "code",
   "execution_count": 2,
   "id": "0e521790",
   "metadata": {},
   "outputs": [
    {
     "data": {
      "text/plain": [
       "array([0.29996979, 0.92476252, 0.83645514, 0.32420978, 0.62572606,\n",
       "       0.20631798, 0.28768258, 0.23363832, 0.72256845, 0.3339011 ])"
      ]
     },
     "execution_count": 2,
     "metadata": {},
     "output_type": "execute_result"
    }
   ],
   "source": [
    "arr_1 = np.random.random(10)\n",
    "arr_1"
   ]
  },
  {
   "cell_type": "code",
   "execution_count": 3,
   "id": "98c9b21c",
   "metadata": {},
   "outputs": [
    {
     "data": {
      "text/plain": [
       "4.795231722919232"
      ]
     },
     "execution_count": 3,
     "metadata": {},
     "output_type": "execute_result"
    }
   ],
   "source": [
    "# сумма\n",
    "# 1d-array\n",
    "np.sum(arr_1)"
   ]
  },
  {
   "cell_type": "code",
   "execution_count": 4,
   "id": "e49e8962",
   "metadata": {},
   "outputs": [
    {
     "data": {
      "text/plain": [
       "4.795231722919232"
      ]
     },
     "execution_count": 4,
     "metadata": {},
     "output_type": "execute_result"
    }
   ],
   "source": [
    "# 2d-array\n",
    "np.sum(arr_1.reshape((2,5)))"
   ]
  },
  {
   "cell_type": "code",
   "execution_count": 21,
   "id": "a9f27121",
   "metadata": {},
   "outputs": [
    {
     "data": {
      "text/plain": [
       "array([0.50628777, 1.2124451 , 1.07009346, 1.04677823, 0.95962716])"
      ]
     },
     "execution_count": 21,
     "metadata": {},
     "output_type": "execute_result"
    }
   ],
   "source": [
    "np.sum(arr_1.reshape((2,5)), axis=0)"
   ]
  },
  {
   "cell_type": "code",
   "execution_count": null,
   "id": "83b223b5",
   "metadata": {},
   "outputs": [],
   "source": [
    "# минимум\n",
    "np.min(arr_1)"
   ]
  },
  {
   "cell_type": "code",
   "execution_count": 6,
   "id": "88a55bc7",
   "metadata": {},
   "outputs": [
    {
     "data": {
      "text/plain": [
       "0.924762522857003"
      ]
     },
     "execution_count": 6,
     "metadata": {},
     "output_type": "execute_result"
    }
   ],
   "source": [
    "# максимум\n",
    "np.max(arr_1)"
   ]
  },
  {
   "cell_type": "code",
   "execution_count": 7,
   "id": "6730c29c",
   "metadata": {},
   "outputs": [
    {
     "data": {
      "text/plain": [
       "0.4795231722919232"
      ]
     },
     "execution_count": 7,
     "metadata": {},
     "output_type": "execute_result"
    }
   ],
   "source": [
    "# среднеарифмитическое\n",
    "np.mean(arr_1)"
   ]
  },
  {
   "cell_type": "code",
   "execution_count": null,
   "id": "dcd46e7a",
   "metadata": {},
   "outputs": [],
   "source": []
  },
  {
   "cell_type": "markdown",
   "id": "216dc7a5",
   "metadata": {},
   "source": [
    "- сравнения"
   ]
  },
  {
   "cell_type": "code",
   "execution_count": 8,
   "id": "665695c7",
   "metadata": {},
   "outputs": [
    {
     "data": {
      "text/plain": [
       "array([0, 1, 2, 3, 4, 5, 6])"
      ]
     },
     "execution_count": 8,
     "metadata": {},
     "output_type": "execute_result"
    }
   ],
   "source": [
    "arr_2 = np.arange(7)\n",
    "arr_2"
   ]
  },
  {
   "cell_type": "code",
   "execution_count": 9,
   "id": "55cebdf9",
   "metadata": {},
   "outputs": [
    {
     "data": {
      "text/plain": [
       "array([ True,  True, False,  True,  True,  True,  True])"
      ]
     },
     "execution_count": 9,
     "metadata": {},
     "output_type": "execute_result"
    }
   ],
   "source": [
    "arr_2 != 2"
   ]
  },
  {
   "cell_type": "code",
   "execution_count": 10,
   "id": "d9b806b0",
   "metadata": {},
   "outputs": [
    {
     "data": {
      "text/plain": [
       "array([False, False,  True, False, False, False, False])"
      ]
     },
     "execution_count": 10,
     "metadata": {},
     "output_type": "execute_result"
    }
   ],
   "source": [
    "arr_2 == 2"
   ]
  },
  {
   "cell_type": "code",
   "execution_count": 11,
   "id": "85526935",
   "metadata": {},
   "outputs": [
    {
     "data": {
      "text/plain": [
       "array([False, False, False, False,  True,  True,  True])"
      ]
     },
     "execution_count": 11,
     "metadata": {},
     "output_type": "execute_result"
    }
   ],
   "source": [
    "arr_2 > 3"
   ]
  },
  {
   "cell_type": "code",
   "execution_count": 13,
   "id": "9bc8f9a6",
   "metadata": {},
   "outputs": [
    {
     "data": {
      "text/plain": [
       "array([[False, False],\n",
       "       [False, False],\n",
       "       [ True,  True],\n",
       "       [ True,  True],\n",
       "       [ True,  True]])"
      ]
     },
     "execution_count": 13,
     "metadata": {},
     "output_type": "execute_result"
    }
   ],
   "source": [
    "np.arange(10).reshape((5,2)) >= 4"
   ]
  },
  {
   "cell_type": "code",
   "execution_count": 15,
   "id": "9df1a076",
   "metadata": {},
   "outputs": [
    {
     "data": {
      "text/plain": [
       "True"
      ]
     },
     "execution_count": 15,
     "metadata": {},
     "output_type": "execute_result"
    }
   ],
   "source": [
    "# общее сравнение\n",
    "# имеется ли в массиве значения, отвечающие условию\n",
    "condition = arr_2 < 4\n",
    "np.any(condition)"
   ]
  },
  {
   "cell_type": "code",
   "execution_count": 16,
   "id": "61da8c4a",
   "metadata": {},
   "outputs": [
    {
     "data": {
      "text/plain": [
       "False"
      ]
     },
     "execution_count": 16,
     "metadata": {},
     "output_type": "execute_result"
    }
   ],
   "source": [
    "# все ли значения отвечают условию\n",
    "np.all(arr_2 < 2)"
   ]
  },
  {
   "cell_type": "code",
   "execution_count": 17,
   "id": "a15cbd33",
   "metadata": {},
   "outputs": [
    {
     "data": {
      "text/plain": [
       "array([[0, 1],\n",
       "       [2, 3],\n",
       "       [4, 5],\n",
       "       [6, 7],\n",
       "       [8, 9]])"
      ]
     },
     "execution_count": 17,
     "metadata": {},
     "output_type": "execute_result"
    }
   ],
   "source": [
    "arr_3 = np.arange(10).reshape((5,2))\n",
    "arr_3"
   ]
  },
  {
   "cell_type": "code",
   "execution_count": 18,
   "id": "bff1ed6c",
   "metadata": {},
   "outputs": [
    {
     "data": {
      "text/plain": [
       "array([ True,  True])"
      ]
     },
     "execution_count": 18,
     "metadata": {},
     "output_type": "execute_result"
    }
   ],
   "source": [
    "np.any(arr_3 > 7, axis=0)"
   ]
  },
  {
   "cell_type": "code",
   "execution_count": 19,
   "id": "578993ca",
   "metadata": {},
   "outputs": [
    {
     "data": {
      "text/plain": [
       "array([False, False, False, False,  True])"
      ]
     },
     "execution_count": 19,
     "metadata": {},
     "output_type": "execute_result"
    }
   ],
   "source": [
    "np.any(arr_3 > 7, axis=1)"
   ]
  },
  {
   "cell_type": "code",
   "execution_count": 20,
   "id": "1c8e091b",
   "metadata": {},
   "outputs": [
    {
     "data": {
      "text/plain": [
       "array([False, False])"
      ]
     },
     "execution_count": 20,
     "metadata": {},
     "output_type": "execute_result"
    }
   ],
   "source": [
    "np.all(arr_3 < 5, axis=0)"
   ]
  },
  {
   "cell_type": "code",
   "execution_count": null,
   "id": "b4709869",
   "metadata": {},
   "outputs": [],
   "source": []
  },
  {
   "cell_type": "markdown",
   "id": "71047267",
   "metadata": {},
   "source": [
    "- маскирование"
   ]
  },
  {
   "cell_type": "code",
   "execution_count": 22,
   "id": "3fc2f45e",
   "metadata": {},
   "outputs": [
    {
     "data": {
      "text/plain": [
       "array([5, 6, 9, 7, 5])"
      ]
     },
     "execution_count": 22,
     "metadata": {},
     "output_type": "execute_result"
    }
   ],
   "source": [
    "arr_4 = np.random.randint(10, size=5)\n",
    "arr_4"
   ]
  },
  {
   "cell_type": "code",
   "execution_count": 23,
   "id": "db2f4b25",
   "metadata": {},
   "outputs": [
    {
     "data": {
      "text/plain": [
       "array([ True, False, False, False,  True])"
      ]
     },
     "execution_count": 23,
     "metadata": {},
     "output_type": "execute_result"
    }
   ],
   "source": [
    "# маска - массив с булевыми значениями\n",
    "c = arr_4 < 6\n",
    "c"
   ]
  },
  {
   "cell_type": "code",
   "execution_count": 24,
   "id": "23d99b3d",
   "metadata": {},
   "outputs": [
    {
     "data": {
      "text/plain": [
       "array([5, 5])"
      ]
     },
     "execution_count": 24,
     "metadata": {},
     "output_type": "execute_result"
    }
   ],
   "source": [
    "arr_4[c]"
   ]
  },
  {
   "cell_type": "code",
   "execution_count": 26,
   "id": "46061fe7",
   "metadata": {},
   "outputs": [
    {
     "data": {
      "text/plain": [
       "array([6, 7])"
      ]
     },
     "execution_count": 26,
     "metadata": {},
     "output_type": "execute_result"
    }
   ],
   "source": [
    "# Побитовые операторы & = and, | = or\n",
    "arr_4[(arr_4 > 5) & (arr_4 < 8)]"
   ]
  },
  {
   "cell_type": "code",
   "execution_count": 27,
   "id": "186ec22c",
   "metadata": {},
   "outputs": [
    {
     "data": {
      "text/plain": [
       "array([5, 6, 9, 7, 5])"
      ]
     },
     "execution_count": 27,
     "metadata": {},
     "output_type": "execute_result"
    }
   ],
   "source": [
    "arr_4[arr_4 != 8]"
   ]
  },
  {
   "cell_type": "code",
   "execution_count": null,
   "id": "9989a0bc",
   "metadata": {},
   "outputs": [],
   "source": []
  },
  {
   "cell_type": "markdown",
   "id": "2a2d76c6",
   "metadata": {},
   "source": [
    "- прихотливая индексация (fancy indieces)"
   ]
  },
  {
   "cell_type": "code",
   "execution_count": 30,
   "id": "7fabd68f",
   "metadata": {},
   "outputs": [
    {
     "data": {
      "text/plain": [
       "array([10, 11, 12, 13, 14, 15, 16, 17, 18, 19])"
      ]
     },
     "execution_count": 30,
     "metadata": {},
     "output_type": "execute_result"
    }
   ],
   "source": [
    "arr_5 = np.arange(10, 20)\n",
    "arr_5"
   ]
  },
  {
   "cell_type": "code",
   "execution_count": 32,
   "id": "4e84566d",
   "metadata": {},
   "outputs": [
    {
     "data": {
      "text/plain": [
       "array([13, 10, 15, 17])"
      ]
     },
     "execution_count": 32,
     "metadata": {},
     "output_type": "execute_result"
    }
   ],
   "source": [
    "# с помощью списка индексов\n",
    "arr_5[[3,0,5,7]]"
   ]
  },
  {
   "cell_type": "code",
   "execution_count": 34,
   "id": "37b0e1ea",
   "metadata": {},
   "outputs": [
    {
     "data": {
      "text/plain": [
       "array([14, 11, 19, 10])"
      ]
     },
     "execution_count": 34,
     "metadata": {},
     "output_type": "execute_result"
    }
   ],
   "source": [
    "# с помощью массива индексов\n",
    "arr_5[np.array([4,1,9,0])]"
   ]
  },
  {
   "cell_type": "code",
   "execution_count": 35,
   "id": "ba2d9060",
   "metadata": {},
   "outputs": [
    {
     "data": {
      "text/plain": [
       "array([[13, 10, 11],\n",
       "       [11, 11, 15]])"
      ]
     },
     "execution_count": 35,
     "metadata": {},
     "output_type": "execute_result"
    }
   ],
   "source": [
    "# с помощью прихотливой индексации может менять форму результирующего массива\n",
    "fi = np.array(\n",
    "[[3,0,1],\n",
    " [1,1,5]]\n",
    ")\n",
    "arr_5[fi]"
   ]
  },
  {
   "cell_type": "code",
   "execution_count": null,
   "id": "109607f6",
   "metadata": {},
   "outputs": [],
   "source": []
  }
 ],
 "metadata": {
  "kernelspec": {
   "display_name": "Python 3",
   "language": "python",
   "name": "python3"
  },
  "language_info": {
   "codemirror_mode": {
    "name": "ipython",
    "version": 3
   },
   "file_extension": ".py",
   "mimetype": "text/x-python",
   "name": "python",
   "nbconvert_exporter": "python",
   "pygments_lexer": "ipython3",
   "version": "3.8.8"
  }
 },
 "nbformat": 4,
 "nbformat_minor": 5
}
